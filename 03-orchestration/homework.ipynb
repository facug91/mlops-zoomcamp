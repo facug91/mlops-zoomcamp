{
 "cells": [
  {
   "cell_type": "markdown",
   "id": "497dc5c0-0d64-46a3-8e29-4057798f207b",
   "metadata": {},
   "source": [
    "# Homework 3: Orchestration"
   ]
  },
  {
   "cell_type": "markdown",
   "id": "0d7f956f-1d93-4152-83a9-e201ce0d6184",
   "metadata": {},
   "source": [
    "**Downloading the data \"Yellow Taxi Trip Records\" data for March 2023, from https://www.nyc.gov/site/tlc/about/tlc-trip-record-data.page**"
   ]
  },
  {
   "cell_type": "code",
   "execution_count": 1,
   "id": "0d1427d7-51c6-4d9d-9ac2-0cfe71544936",
   "metadata": {},
   "outputs": [
    {
     "name": "stdout",
     "output_type": "stream",
     "text": [
      "--2025-06-03 22:52:47--  https://d37ci6vzurychx.cloudfront.net/trip-data/yellow_tripdata_2023-03.parquet\n",
      "Resolving d37ci6vzurychx.cloudfront.net (d37ci6vzurychx.cloudfront.net)... 65.8.245.51, 65.8.245.50, 65.8.245.178, ...\n",
      "Connecting to d37ci6vzurychx.cloudfront.net (d37ci6vzurychx.cloudfront.net)|65.8.245.51|:443... connected.\n",
      "HTTP request sent, awaiting response... 200 OK\n",
      "Length: 56127762 (54M) [binary/octet-stream]\n",
      "Saving to: ‘./data/yellow_tripdata_2023-03.parquet.1’\n",
      "\n",
      "yellow_tripdata_202 100%[===================>]  53,53M  3,24MB/s    in 15s     \n",
      "\n",
      "2025-06-03 22:53:03 (3,52 MB/s) - ‘./data/yellow_tripdata_2023-03.parquet.1’ saved [56127762/56127762]\n",
      "\n"
     ]
    }
   ],
   "source": [
    "!mkdir -p data\n",
    "!wget https://d37ci6vzurychx.cloudfront.net/trip-data/yellow_tripdata_2023-03.parquet -P ./data"
   ]
  },
  {
   "cell_type": "markdown",
   "id": "10324092-8da0-41bc-a20f-011721a5cc02",
   "metadata": {},
   "source": [
    "**Import all necessary modules**"
   ]
  },
  {
   "cell_type": "code",
   "execution_count": 2,
   "id": "4b7dd639-fa1c-41a1-8666-1be227cc39b5",
   "metadata": {},
   "outputs": [],
   "source": [
    "import pandas as pd"
   ]
  },
  {
   "cell_type": "markdown",
   "id": "eb264fd2-1923-4475-9a9f-462325fadb60",
   "metadata": {},
   "source": [
    "**Read March data**"
   ]
  },
  {
   "cell_type": "code",
   "execution_count": 3,
   "id": "cf7fe47c-459f-4753-988e-c5b993e29546",
   "metadata": {},
   "outputs": [],
   "source": [
    "df = pd.read_parquet('./data/yellow_tripdata_2023-03.parquet')"
   ]
  },
  {
   "cell_type": "markdown",
   "id": "622ec499-4209-40fe-90f6-05362f20a59c",
   "metadata": {},
   "source": [
    "**Retrieve number of rows and columns**"
   ]
  },
  {
   "cell_type": "code",
   "execution_count": 4,
   "id": "cde38f52-e67e-4484-b216-c2b5d6821947",
   "metadata": {},
   "outputs": [
    {
     "data": {
      "text/plain": [
       "(3403766, 19)"
      ]
     },
     "execution_count": 4,
     "metadata": {},
     "output_type": "execute_result"
    }
   ],
   "source": [
    "df.shape"
   ]
  },
  {
   "cell_type": "code",
   "execution_count": 5,
   "id": "0488494c",
   "metadata": {},
   "outputs": [],
   "source": [
    "def read_dataframe(filename):\n",
    "    df = pd.read_parquet(filename)\n",
    "\n",
    "    df['duration'] = df.tpep_dropoff_datetime - df.tpep_pickup_datetime\n",
    "    df.duration = df.duration.dt.total_seconds() / 60\n",
    "\n",
    "    df = df[(df.duration >= 1) & (df.duration <= 60)]\n",
    "\n",
    "    categorical = ['PULocationID', 'DOLocationID']\n",
    "    df[categorical] = df[categorical].astype(str)\n",
    "    \n",
    "    return df"
   ]
  },
  {
   "cell_type": "code",
   "execution_count": 6,
   "id": "0f3e70dd",
   "metadata": {},
   "outputs": [
    {
     "data": {
      "text/plain": [
       "(3316216, 20)"
      ]
     },
     "execution_count": 6,
     "metadata": {},
     "output_type": "execute_result"
    }
   ],
   "source": [
    "df = read_dataframe('./data/yellow_tripdata_2023-03.parquet')\n",
    "df.shape"
   ]
  },
  {
   "cell_type": "markdown",
   "id": "fb5bc6b3",
   "metadata": {},
   "source": [
    "Run mlflow local server in a terminal with:  \n",
    "```\n",
    "mlflow ui --backend-store-uri sqlite:///mlflow.db  --default-artifact-root ./artifacts\n",
    "```"
   ]
  },
  {
   "cell_type": "markdown",
   "id": "59647409",
   "metadata": {},
   "source": [
    "Run prefect local server in a terminal with:  \n",
    "```\n",
    "prefect server start\n",
    "```"
   ]
  },
  {
   "cell_type": "code",
   "execution_count": null,
   "id": "04dceb80",
   "metadata": {},
   "outputs": [],
   "source": [
    "def register_model(data_path: str, top_n: int):\n",
    "\n",
    "    client = MlflowClient()\n",
    "\n",
    "    # Retrieve the top_n model runs and log the models\n",
    "    experiment = client.get_experiment_by_name(HPO_EXPERIMENT_NAME)\n",
    "    runs = client.search_runs(\n",
    "        experiment_ids=experiment.experiment_id,\n",
    "        run_view_type=ViewType.ACTIVE_ONLY,\n",
    "        max_results=top_n,\n",
    "        order_by=[\"metrics.rmse ASC\"]\n",
    "    )\n",
    "    for run in runs:\n",
    "        train_and_log_model(data_path=data_path, params=run.data.params)\n",
    "\n",
    "    # Select the model with the lowest test RMSE\n",
    "    experiment = client.get_experiment_by_name(EXPERIMENT_NAME)\n",
    "    # best_run = client.search_runs( ...  )[0]\n",
    "    best_run = client.search_runs(\n",
    "        experiment_ids=experiment.experiment_id,\n",
    "        run_view_type=ViewType.ACTIVE_ONLY,\n",
    "        max_results=1,\n",
    "        order_by=[\"metrics.rmse ASC\"]\n",
    "    )[0]\n",
    "\n",
    "    # Register the best model\n",
    "    # mlflow.register_model( ... )\n",
    "    run_id = best_run.info.run_id\n",
    "    mlflow.register_model(\n",
    "        model_uri=f\"runs:/{run_id}/models\",\n",
    "        name='best-model-final2-realone'\n",
    "    )"
   ]
  },
  {
   "cell_type": "code",
   "execution_count": null,
   "id": "2cff5b42",
   "metadata": {},
   "outputs": [],
   "source": [
    "import mlflow\n",
    "from mlflow.tracking import MlflowClient\n",
    "\n",
    "mlflow.set_tracking_uri('http://localhost:5000')\n",
    "mlflow.set_experiment('nyc-taxi-experiment')\n",
    "client = MlflowClient()\n",
    "experiment = client.get_experiment_by_name('nyc-taxi-experiment')\n",
    "runs = client.search_runs(\n",
    "    experiment_ids=experiment.experiment_id,\n",
    "    run_view_type=ViewType.ACTIVE_ONLY,\n",
    "    max_results=top_n,\n",
    "    order_by=[\"metrics.rmse ASC\"]\n",
    ")\n"
   ]
  }
 ],
 "metadata": {
  "kernelspec": {
   "display_name": ".venv",
   "language": "python",
   "name": "python3"
  },
  "language_info": {
   "codemirror_mode": {
    "name": "ipython",
    "version": 3
   },
   "file_extension": ".py",
   "mimetype": "text/x-python",
   "name": "python",
   "nbconvert_exporter": "python",
   "pygments_lexer": "ipython3",
   "version": "3.10.12"
  }
 },
 "nbformat": 4,
 "nbformat_minor": 5
}
